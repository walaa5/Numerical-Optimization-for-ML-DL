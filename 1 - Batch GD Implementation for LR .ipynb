{
 "cells": [
  {
   "cell_type": "markdown",
   "metadata": {},
   "source": [
    "## Import libraries"
   ]
  },
  {
   "cell_type": "code",
   "execution_count": 1,
   "metadata": {},
   "outputs": [],
   "source": [
    "import numpy as np\n",
    "import matplotlib.pyplot as plt\n"
   ]
  },
  {
   "cell_type": "markdown",
   "metadata": {},
   "source": [
    "## Batch GD for Single variable"
   ]
  },
  {
   "cell_type": "markdown",
   "metadata": {},
   "source": [
    "#### Read RegData csv file into numpy array  (check your data)\n",
    "##### Data source\n",
    "https://college.cengage.com/mathematics/brase/understandable_statistics/7e/students/datasets/slr/frames/frame.html\n"
   ]
  },
  {
   "cell_type": "code",
   "execution_count": 9,
   "metadata": {},
   "outputs": [],
   "source": [
    "regdata = np.genfromtxt('RegData.csv',delimiter=',')"
   ]
  },
  {
   "cell_type": "markdown",
   "metadata": {},
   "source": [
    "#### Explore your data"
   ]
  },
  {
   "cell_type": "code",
   "execution_count": 10,
   "metadata": {},
   "outputs": [
    {
     "name": "stdout",
     "output_type": "stream",
     "text": [
      "[[2.9000001  4.        ]\n",
      " [6.69999981 7.4000001 ]\n",
      " [4.9000001  5.        ]\n",
      " [7.9000001  7.19999981]\n",
      " [9.80000019 7.9000001 ]\n",
      " [6.9000001  6.0999999 ]\n",
      " [6.0999999  6.        ]\n",
      " [6.19999981 5.80000019]\n",
      " [6.         5.19999981]\n",
      " [5.0999999  4.19999981]\n",
      " [4.69999981 4.        ]\n",
      " [4.4000001  4.4000001 ]\n",
      " [5.80000019 5.19999981]]\n"
     ]
    }
   ],
   "source": [
    "print(regdata)"
   ]
  },
  {
   "cell_type": "code",
   "execution_count": 11,
   "metadata": {},
   "outputs": [],
   "source": [
    "X = regdata[:,0]\n",
    "Y = regdata[:,1]\n"
   ]
  },
  {
   "cell_type": "markdown",
   "metadata": {},
   "source": [
    "#### Explore your data"
   ]
  },
  {
   "cell_type": "code",
   "execution_count": 12,
   "metadata": {},
   "outputs": [
    {
     "name": "stdout",
     "output_type": "stream",
     "text": [
      "[2.9000001  6.69999981 4.9000001  7.9000001  9.80000019 6.9000001\n",
      " 6.0999999  6.19999981 6.         5.0999999  4.69999981 4.4000001\n",
      " 5.80000019]\n",
      "(13,)\n"
     ]
    }
   ],
   "source": [
    "print(X)\n",
    "print(X.shape)"
   ]
  },
  {
   "cell_type": "code",
   "execution_count": 13,
   "metadata": {
    "scrolled": true
   },
   "outputs": [
    {
     "name": "stdout",
     "output_type": "stream",
     "text": [
      "[4.         7.4000001  5.         7.19999981 7.9000001  6.0999999\n",
      " 6.         5.80000019 5.19999981 4.19999981 4.         4.4000001\n",
      " 5.19999981]\n"
     ]
    }
   ],
   "source": [
    "print(Y)"
   ]
  },
  {
   "cell_type": "markdown",
   "metadata": {},
   "source": [
    "#### Plot the original data (scatter plot of X,y)"
   ]
  },
  {
   "cell_type": "code",
   "execution_count": 14,
   "metadata": {},
   "outputs": [
    {
     "data": {
      "text/plain": [
       "Text(0, 0.5, 'Y')"
      ]
     },
     "execution_count": 14,
     "metadata": {},
     "output_type": "execute_result"
    },
    {
     "data": {
      "image/png": "[encoded data removed]",
      "text/plain": [
       "<Figure size 432x288 with 1 Axes>"
      ]
     },
     "metadata": {
      "needs_background": "light"
     },
     "output_type": "display_data"
    }
   ],
   "source": [
    "plt.scatter(X,Y)\n",
    "plt.title(\"students-dataset\")\n",
    "plt.xlabel(\"X\")\n",
    "plt.ylabel(\"Y\")"
   ]
  },
  {
   "cell_type": "code",
   "execution_count": 28,
   "metadata": {},
   "outputs": [],
   "source": [
    "theta_0 = 0\n",
    "theta_1 = 0\n",
    "lr = 0.001\n",
    "\n",
    "list_theta0 = []\n",
    "list_theta1 = []\n",
    "list_cost = []\n",
    "epoch = 100\n",
    "\n",
    "for i in range(epoch):\n",
    "    \n",
    "    h = theta_0 + theta_1 * X\n",
    "    \n",
    "    error = h - Y\n",
    "    cost = np.sum(error**2) / (2 * len(X))\n",
    "    \n",
    "    gradient_theta0 = np.sum(error) / len(X)\n",
    "    gradient_theta1 = np.sum(error*X) / len(X)\n",
    "    \n",
    "    theta_0 = theta_0 - lr*gradient_theta0\n",
    "    theta_1 = theta_1 - lr*gradient_theta1\n",
    "    \n",
    "    list_theta0.append(theta_0)\n",
    "    list_theta1.append(theta_1)\n",
    "    list_cost.append(cost)\n",
    "    \n",
    "    "
   ]
  },
  {
   "cell_type": "markdown",
   "metadata": {},
   "source": [
    "#### Predict y values using the LR equation\n",
    "##### h(x)= theta_0 + theta_1 * x"
   ]
  },
  {
   "cell_type": "code",
   "execution_count": 29,
   "metadata": {},
   "outputs": [],
   "source": [
    "y_hat = theta_0 + theta_1 * X"
   ]
  },
  {
   "cell_type": "markdown",
   "metadata": {},
   "source": [
    "#### Plot  LR equation output (fitted line) with the original data (scatter plot of X,y)"
   ]
  },
  {
   "cell_type": "code",
   "execution_count": 30,
   "metadata": {
    "scrolled": false
   },
   "outputs": [
    {
     "data": {
      "text/plain": [
       "Text(0.5, 1.0, 'Data')"
      ]
     },
     "execution_count": 30,
     "metadata": {},
     "output_type": "execute_result"
    },
    {
     "data": {
      "image/png": "[encoded data removed]",
      "text/plain": [
       "<Figure size 432x288 with 1 Axes>"
      ]
     },
     "metadata": {
      "needs_background": "light"
     },
     "output_type": "display_data"
    }
   ],
   "source": [
    "plt.scatter(X, Y)\n",
    "plt.plot(X, y_hat)\n",
    "plt.xlabel('X')\n",
    "plt.ylabel('Y')\n",
    "plt.title('Data')"
   ]
  },
  {
   "cell_type": "code",
   "execution_count": 31,
   "metadata": {},
   "outputs": [
    {
     "data": {
      "text/plain": [
       "Text(0.5, 1.0, 'How theta_0 change during learning')"
      ]
     },
     "execution_count": 31,
     "metadata": {},
     "output_type": "execute_result"
    },
    {
     "data": {
      "image/png": "[encoded data removed]",
      "text/plain": [
       "<Figure size 432x288 with 1 Axes>"
      ]
     },
     "metadata": {
      "needs_background": "light"
     },
     "output_type": "display_data"
    }
   ],
   "source": [
    "plt.plot(list_theta0, list_cost, marker ='o')\n",
    "plt.xlabel('theta_0')\n",
    "plt.ylabel('cost')\n",
    "plt.title('How theta_0 change during learning')"
   ]
  },
  {
   "cell_type": "code",
   "execution_count": 32,
   "metadata": {},
   "outputs": [
    {
     "data": {
      "text/plain": [
       "Text(0.5, 1.0, 'How theta_1 change during learning')"
      ]
     },
     "execution_count": 32,
     "metadata": {},
     "output_type": "execute_result"
    },
    {
     "data": {
      "image/png": "[encoded data removed]",
      "text/plain": [
       "<Figure size 432x288 with 1 Axes>"
      ]
     },
     "metadata": {
      "needs_background": "light"
     },
     "output_type": "display_data"
    }
   ],
   "source": [
    "plt.plot(list_theta1, list_cost, marker ='o')\n",
    "plt.xlabel('theta_1')\n",
    "plt.ylabel('cost')\n",
    "plt.title('How theta_1 change during learning')"
   ]
  },
  {
   "cell_type": "code",
   "execution_count": 33,
   "metadata": {},
   "outputs": [
    {
     "data": {
      "text/plain": [
       "Text(0, 0.5, 'cost')"
      ]
     },
     "execution_count": 33,
     "metadata": {},
     "output_type": "execute_result"
    },
    {
     "data": {
      "image/png": "[encoded data removed]",
      "text/plain": [
       "<Figure size 432x288 with 1 Axes>"
      ]
     },
     "metadata": {
      "needs_background": "light"
     },
     "output_type": "display_data"
    }
   ],
   "source": [
    "plt.plot(range(epoch), list_cost, marker='o')\n",
    "plt.title('learning process')\n",
    "plt.xlabel('epoch')\n",
    "plt.ylabel('cost')"
   ]
  },
  {
   "cell_type": "code",
   "execution_count": 34,
   "metadata": {},
   "outputs": [
    {
     "name": "stdout",
     "output_type": "stream",
     "text": [
      "0.7406996532992384\n"
     ]
    }
   ],
   "source": [
    "from sklearn.metrics import r2_score\n",
    "\n",
    "R_square = r2_score(Y, y_hat)\n",
    "print(R_square)"
   ]
  },
  {
   "cell_type": "markdown",
   "metadata": {},
   "source": [
    "## -----------------------------------------------------------------------------------------------------"
   ]
  },
  {
   "cell_type": "markdown",
   "metadata": {},
   "source": [
    "## Multivariate LR"
   ]
  },
  {
   "cell_type": "markdown",
   "metadata": {},
   "source": [
    "#### Read MultipleLR csv file into numpy array  (check your data)\n",
    "##### Data source\n",
    "https://college.cengage.com/mathematics/brase/understandable_statistics/7e/students/datasets/slr/frames/frame.html\n"
   ]
  },
  {
   "cell_type": "code",
   "execution_count": 35,
   "metadata": {},
   "outputs": [],
   "source": [
    "multiple_lr = np.genfromtxt('MultipleLR.csv',delimiter=',')"
   ]
  },
  {
   "cell_type": "code",
   "execution_count": 36,
   "metadata": {},
   "outputs": [
    {
     "name": "stdout",
     "output_type": "stream",
     "text": [
      "[[ 73.  80.  75. 152.]\n",
      " [ 93.  88.  93. 185.]\n",
      " [ 89.  91.  90. 180.]\n",
      " [ 96.  98. 100. 196.]\n",
      " [ 73.  66.  70. 142.]]\n"
     ]
    }
   ],
   "source": [
    "print(multiple_lr[0:5])"
   ]
  },
  {
   "cell_type": "code",
   "execution_count": 37,
   "metadata": {},
   "outputs": [],
   "source": [
    "x_data = multiple_lr[:,0:3]\n",
    "\n",
    "y_labels = multiple_lr[:,-1]"
   ]
  },
  {
   "cell_type": "code",
   "execution_count": 38,
   "metadata": {},
   "outputs": [
    {
     "name": "stdout",
     "output_type": "stream",
     "text": [
      "[[ 73.  80.  75.]\n",
      " [ 93.  88.  93.]\n",
      " [ 89.  91.  90.]\n",
      " [ 96.  98. 100.]\n",
      " [ 73.  66.  70.]]\n",
      "(25, 3)\n"
     ]
    }
   ],
   "source": [
    "print(x_data[0:5])\n",
    "print(x_data.shape)"
   ]
  },
  {
   "cell_type": "code",
   "execution_count": 39,
   "metadata": {},
   "outputs": [
    {
     "name": "stdout",
     "output_type": "stream",
     "text": [
      "[152. 185. 180. 196. 142.]\n",
      "(25,)\n"
     ]
    }
   ],
   "source": [
    "print(y_labels[0:5])\n",
    "print(y_labels.shape)"
   ]
  },
  {
   "cell_type": "markdown",
   "metadata": {},
   "source": [
    "## Batch GD for more than one variable"
   ]
  },
  {
   "cell_type": "code",
   "execution_count": 40,
   "metadata": {},
   "outputs": [],
   "source": [
    "def MultiGD_LinearRegrission(data, labels, alpha = 0.001, epochs= 50):\n",
    "    \n",
    "    #data = np.insert(data, 0, np.ones(len(data)), axis=1)\n",
    "    #data = np.vstack([np.ones(len(data)), data]).T\n",
    "    print(data[0:5])\n",
    "    data = np.column_stack((np.ones(len(data)), data))\n",
    "    print(data)\n",
    "    thetas = np.zeros(data.shape[1])\n",
    "    \n",
    "    list_thetas  = []\n",
    "    list_cost    = []\n",
    "    list_yhat    = []\n",
    "\n",
    "    for i in range(epochs):\n",
    "        \n",
    "        h = np.dot(data, thetas)\n",
    "        error = h - labels\n",
    "        cost = np.dot(error, error) / (2 * len(y_labels))\n",
    "        gradient_thetas = np.dot(data.T, error) / len(labels)\n",
    "        thetas = thetas - alpha*gradient_thetas\n",
    "\n",
    "        list_thetas.append(thetas)\n",
    "        list_cost.append(cost)\n",
    "        list_yhat.append(h)\n",
    "    \n",
    "    y_hat = data @ thetas\n",
    "    \n",
    "    return list_thetas, list_cost, list_yhat, thetas, y_hat"
   ]
  },
  {
   "cell_type": "code",
   "execution_count": 41,
   "metadata": {},
   "outputs": [
    {
     "name": "stdout",
     "output_type": "stream",
     "text": [
      "[[ 73.  80.  75.]\n",
      " [ 93.  88.  93.]\n",
      " [ 89.  91.  90.]\n",
      " [ 96.  98. 100.]\n",
      " [ 73.  66.  70.]]\n",
      "[[  1.  73.  80.  75.]\n",
      " [  1.  93.  88.  93.]\n",
      " [  1.  89.  91.  90.]\n",
      " [  1.  96.  98. 100.]\n",
      " [  1.  73.  66.  70.]\n",
      " [  1.  53.  46.  55.]\n",
      " [  1.  69.  74.  77.]\n",
      " [  1.  47.  56.  60.]\n",
      " [  1.  87.  79.  90.]\n",
      " [  1.  79.  70.  88.]\n",
      " [  1.  69.  70.  73.]\n",
      " [  1.  70.  65.  74.]\n",
      " [  1.  93.  95.  91.]\n",
      " [  1.  79.  80.  73.]\n",
      " [  1.  70.  73.  78.]\n",
      " [  1.  93.  89.  96.]\n",
      " [  1.  78.  75.  68.]\n",
      " [  1.  81.  90.  93.]\n",
      " [  1.  88.  92.  86.]\n",
      " [  1.  78.  83.  77.]\n",
      " [  1.  82.  86.  90.]\n",
      " [  1.  86.  82.  89.]\n",
      " [  1.  78.  83.  85.]\n",
      " [  1.  76.  83.  71.]\n",
      " [  1.  96.  93.  95.]]\n"
     ]
    }
   ],
   "source": [
    "lr= 0.0001\n",
    "epochs = 100\n",
    "\n",
    "list_thetas, list_cost, list_yhat, thetas, yhat = MultiGD_LinearRegrission(x_data, y_labels, alpha = lr, epochs= epochs)"
   ]
  },
  {
   "cell_type": "markdown",
   "metadata": {},
   "source": [
    "### Plot loss vs. iterations"
   ]
  },
  {
   "cell_type": "code",
   "execution_count": 42,
   "metadata": {
    "scrolled": false
   },
   "outputs": [
    {
     "data": {
      "text/plain": [
       "[<matplotlib.lines.Line2D at 0x1f9c85a0850>]"
      ]
     },
     "execution_count": 42,
     "metadata": {},
     "output_type": "execute_result"
    },
    {
     "data": {
      "image/png": "[encoded data removed]",
      "text/plain": [
       "<Figure size 432x288 with 1 Axes>"
      ]
     },
     "metadata": {
      "needs_background": "light"
     },
     "output_type": "display_data"
    }
   ],
   "source": [
    "plt.plot(range(epochs), list_cost)"
   ]
  },
  {
   "cell_type": "markdown",
   "metadata": {},
   "source": [
    "#### Use R2 score to evaluate LR equation output"
   ]
  },
  {
   "cell_type": "code",
   "execution_count": 43,
   "metadata": {},
   "outputs": [
    {
     "name": "stdout",
     "output_type": "stream",
     "text": [
      "0.969062423663015\n"
     ]
    }
   ],
   "source": [
    "R_square = r2_score(y_labels, yhat)\n",
    "print(R_square)"
   ]
  },
  {
   "cell_type": "code",
   "execution_count": null,
   "metadata": {},
   "outputs": [],
   "source": []
  }
 ],
 "metadata": {
  "kernelspec": {
   "display_name": "Python 3 (ipykernel)",
   "language": "python",
   "name": "python3"
  },
  "language_info": {
   "codemirror_mode": {
    "name": "ipython",
    "version": 3
   },
   "file_extension": ".py",
   "mimetype": "text/x-python",
   "name": "python",
   "nbconvert_exporter": "python",
   "pygments_lexer": "ipython3",
   "version": "3.9.7"
  }
 },
 "nbformat": 4,
 "nbformat_minor": 4
}
